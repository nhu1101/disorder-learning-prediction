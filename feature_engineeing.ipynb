{
 "cells": [
  {
   "cell_type": "code",
   "execution_count": 24,
   "metadata": {
    "_cell_guid": "b1076dfc-b9ad-4769-8c92-a6c4dae69d19",
    "_uuid": "8f2839f25d086af736a60e9eeb907d3b93b6e0e5",
    "execution": {
     "iopub.execute_input": "2025-02-05T07:29:50.280758Z",
     "iopub.status.busy": "2025-02-05T07:29:50.280361Z",
     "iopub.status.idle": "2025-02-05T07:29:50.288694Z",
     "shell.execute_reply": "2025-02-05T07:29:50.287431Z",
     "shell.execute_reply.started": "2025-02-05T07:29:50.280727Z"
    }
   },
   "outputs": [],
   "source": [
    "# This Python 3 environment comes with many helpful analytics libraries installed\n",
    "# It is defined by the kaggle/python Docker image: https://github.com/kaggle/docker-python\n",
    "# For example, here's several helpful packages to load\n",
    "\n",
    "import numpy as np\n",
    "import pandas as pd\n",
    "import os\n",
    "from sklearn.base import clone\n",
    "from sklearn.metrics import cohen_kappa_score, make_scorer, confusion_matrix\n",
    "from sklearn.model_selection import StratifiedKFold, KFold, train_test_split\n",
    "from sklearn.preprocessing import StandardScaler\n",
    "from sklearn.decomposition import PCA\n",
    "from scipy.optimize import minimize\n",
    "from scipy import stats\n",
    "from concurrent.futures import ThreadPoolExecutor\n",
    "from tqdm import tqdm\n",
    "import warnings\n",
    "from sklearn.linear_model import ElasticNetCV, LassoCV, Lasso, LinearRegression\n",
    "from sklearn.ensemble import ExtraTreesRegressor, RandomForestRegressor\n",
    "from lightgbm import LGBMRegressor\n",
    "from xgboost import XGBRegressor\n",
    "from catboost import CatBoostRegressor\n",
    "import optuna\n",
    "import matplotlib.pyplot as plt\n",
    "import seaborn as sns\n",
    "import numpy as np\n",
    "import random\n",
    "import pickle\n",
    "import missingno as msno\n",
    "\n",
    "warnings.filterwarnings('ignore')\n",
    "\n",
    "SEED = 42\n",
    "# Input data files are available in the read-only \"../input/\" directory\n",
    "# For example, running this (by clicking run or pressing Shift+Enter) will list all files under the input directory\n",
    "\n",
    "# import os\n",
    "# for dirname, _, filenames in os.walk('/kaggle/input'):\n",
    "#     for filename in filenames:\n",
    "#         print(os.path.join(dirname, filename))\n",
    "\n",
    "# You can write up to 20GB to the current directory (/kaggle/working/) that gets preserved as output when you create a version using \"Save & Run All\" \n",
    "# You can also write temporary files to /kaggle/temp/, but they won't be saved outside of the current session"
   ]
  },
  {
   "cell_type": "code",
   "execution_count": 42,
   "metadata": {
    "execution": {
     "iopub.execute_input": "2025-02-05T07:36:18.509583Z",
     "iopub.status.busy": "2025-02-05T07:36:18.509227Z",
     "iopub.status.idle": "2025-02-05T07:36:18.593527Z",
     "shell.execute_reply": "2025-02-05T07:36:18.592565Z",
     "shell.execute_reply.started": "2025-02-05T07:36:18.509559Z"
    }
   },
   "outputs": [],
   "source": [
    "# Load datasets\n",
    "train = pd.read_csv('/kaggle/input/child-mind-institute-problematic-internet-use/train.csv')\n",
    "test = pd.read_csv('/kaggle/input/child-mind-institute-problematic-internet-use/test.csv')"
   ]
  },
  {
   "cell_type": "markdown",
   "metadata": {},
   "source": [
    "## A. Handle the parquet time-series files: "
   ]
  },
  {
   "cell_type": "markdown",
   "metadata": {},
   "source": [
    "### 1. Define some Functions: "
   ]
  },
  {
   "cell_type": "code",
   "execution_count": 26,
   "metadata": {
    "execution": {
     "iopub.execute_input": "2025-02-05T07:29:50.365301Z",
     "iopub.status.busy": "2025-02-05T07:29:50.364949Z",
     "iopub.status.idle": "2025-02-05T07:29:50.376814Z",
     "shell.execute_reply": "2025-02-05T07:29:50.375757Z",
     "shell.execute_reply.started": "2025-02-05T07:29:50.365269Z"
    }
   },
   "outputs": [],
   "source": [
    "def time_features(df):\n",
    "    # Convert time_of_day to hours\n",
    "    df[\"hours\"] = df[\"time_of_day\"] // (3_600 * 1_000_000_000)\n",
    "    # Basic features \n",
    "    features = [\n",
    "        df[\"non-wear_flag\"].mean(),\n",
    "        df[\"enmo\"][df[\"enmo\"] >= 0.05].sum(),\n",
    "    ]\n",
    "    \n",
    "    # Define conditions for night, day, and no mask (full data)\n",
    "    night = ((df[\"hours\"] >= 22) | (df[\"hours\"] <= 5))\n",
    "    day = ((df[\"hours\"] <= 20) & (df[\"hours\"] >= 7))\n",
    "    no_mask = np.ones(len(df), dtype=bool)\n",
    "    \n",
    "    # List of columns of interest and masks\n",
    "    keys = [\"enmo\", \"anglez\", \"light\", \"battery_voltage\"]\n",
    "    masks = [no_mask, night, day]\n",
    "    \n",
    "    # Helper function for feature extraction\n",
    "    def extract_stats(data):\n",
    "        return [\n",
    "            data.mean(), \n",
    "            data.std(), \n",
    "            data.max(), \n",
    "            data.min(), \n",
    "            data.diff().mean(), \n",
    "            data.diff().std()\n",
    "        ]\n",
    "    \n",
    "    # Iterate over keys and masks to generate the statistics\n",
    "    for key in keys:\n",
    "        for mask in masks:\n",
    "            filtered_data = df.loc[mask, key]\n",
    "            features.extend(extract_stats(filtered_data))\n",
    "\n",
    "    return features\n",
    "\n",
    "def process_file(filename, dirname):\n",
    "    # Process file and extract time features\n",
    "    df = pd.read_parquet(os.path.join(dirname, filename, 'part-0.parquet'))\n",
    "    df.drop('step', axis=1, inplace=True)\n",
    "    return time_features(df), filename.split('=')[1]\n",
    "\n",
    "\n",
    "def load_time_series(dirname) -> pd.DataFrame:\n",
    "    # Load time series from directory in parallel\n",
    "    ids = os.listdir(dirname)\n",
    "    \n",
    "    with ThreadPoolExecutor() as executor:\n",
    "        results = list(tqdm(executor.map(lambda fname: process_file(fname, dirname), ids), total=len(ids)))\n",
    "    \n",
    "    stats, indexes = zip(*results)\n",
    "    \n",
    "    df = pd.DataFrame(stats, columns=[f\"stat_{i}\" for i in range(len(stats[0]))])\n",
    "    df['id'] = indexes\n",
    "    \n",
    "    return df\n",
    "\n",
    "def perform_pca(train, test, n_components=None, random_state=42):\n",
    "    \n",
    "    pca = PCA(n_components=n_components, random_state=random_state)\n",
    "    train_pca = pca.fit_transform(train)\n",
    "    test_pca = pca.transform(test)\n",
    "    \n",
    "    explained_variance_ratio = pca.explained_variance_ratio_\n",
    "    print(f\"Explained variance ratio of the components:\\n {explained_variance_ratio}\")\n",
    "    print(np.sum(explained_variance_ratio))\n",
    "    \n",
    "    train_pca_df = pd.DataFrame(train_pca, columns=[f'PC_{i+1}' for i in range(train_pca.shape[1])])\n",
    "    test_pca_df = pd.DataFrame(test_pca, columns=[f'PC_{i+1}' for i in range(test_pca.shape[1])])\n",
    "    \n",
    "    return train_pca_df, test_pca_df, pca"
   ]
  },
  {
   "cell_type": "markdown",
   "metadata": {},
   "source": [
    "## 2. Load the data: "
   ]
  },
  {
   "cell_type": "code",
   "execution_count": 43,
   "metadata": {
    "execution": {
     "iopub.execute_input": "2025-02-05T07:36:23.181954Z",
     "iopub.status.busy": "2025-02-05T07:36:23.181629Z",
     "iopub.status.idle": "2025-02-05T07:37:27.128171Z",
     "shell.execute_reply": "2025-02-05T07:37:27.127140Z",
     "shell.execute_reply.started": "2025-02-05T07:36:23.181927Z"
    }
   },
   "outputs": [
    {
     "name": "stderr",
     "output_type": "stream",
     "text": [
      "100%|██████████| 996/996 [01:03<00:00, 15.64it/s]\n",
      "100%|██████████| 2/2 [00:00<00:00, 14.82it/s]\n"
     ]
    },
    {
     "name": "stdout",
     "output_type": "stream",
     "text": [
      "(996, 74)\n",
      "Explained variance ratio of the components:\n",
      " [0.22219101 0.11409028 0.0661572  0.06115724 0.05273775 0.04588977\n",
      " 0.04282018 0.0380403  0.03464054 0.02994127 0.02582855 0.02512205\n",
      " 0.02316007 0.02173859 0.01984161]\n",
      "0.8233563956394476\n"
     ]
    }
   ],
   "source": [
    "train_ts = load_time_series(\"/kaggle/input/child-mind-institute-problematic-internet-use/series_train.parquet\")\n",
    "test_ts = load_time_series(\"/kaggle/input/child-mind-institute-problematic-internet-use/series_test.parquet\")\n",
    "\n",
    "df_train = train_ts.drop('id', axis=1)\n",
    "df_test = test_ts.drop('id', axis=1)\n",
    "\n",
    "# Standardize the data: \n",
    "scaler = StandardScaler()\n",
    "df_train = pd.DataFrame(scaler.fit_transform(df_train), columns=df_train.columns)\n",
    "df_test = pd.DataFrame(scaler.transform(df_test), columns=df_test.columns)\n",
    "\n",
    "# Fill Nan with mean: \n",
    "for c in df_train.columns:\n",
    "    m = np.mean(df_train[c])\n",
    "    df_train[c].fillna(m, inplace=True)\n",
    "    df_test[c].fillna(m, inplace=True)\n",
    "\n",
    "print(df_train.shape)\n",
    "\n",
    "#Apply PCA with 15 PCs: \n",
    "df_train_pca, df_test_pca, pca = perform_pca(df_train, df_test, n_components=15, random_state=SEED)\n",
    "\n",
    "df_train_pca['id'] = train_ts['id']\n",
    "df_test_pca['id'] = test_ts['id']\n",
    "\n",
    "#Merge with the train dataset:\n",
    "train = pd.merge(train, df_train_pca, how=\"left\", on='id')\n",
    "test = pd.merge(test, df_test_pca, how=\"left\", on='id')"
   ]
  },
  {
   "cell_type": "markdown",
   "metadata": {},
   "source": [
    "## B. Handle Train dataset:(after merge with time series file) "
   ]
  },
  {
   "cell_type": "code",
   "execution_count": 28,
   "metadata": {
    "execution": {
     "iopub.execute_input": "2025-02-05T07:30:53.632395Z",
     "iopub.status.busy": "2025-02-05T07:30:53.632001Z",
     "iopub.status.idle": "2025-02-05T07:30:53.637217Z",
     "shell.execute_reply": "2025-02-05T07:30:53.636477Z",
     "shell.execute_reply.started": "2025-02-05T07:30:53.632356Z"
    }
   },
   "outputs": [
    {
     "name": "stdout",
     "output_type": "stream",
     "text": [
      "(3960, 97)\n",
      "(20, 74)\n"
     ]
    }
   ],
   "source": [
    "print(train.shape)\n",
    "print(test.shape)"
   ]
  },
  {
   "cell_type": "markdown",
   "metadata": {},
   "source": [
    "### 1. Cleaning Features: (Remove highly implausible values)"
   ]
  },
  {
   "cell_type": "code",
   "execution_count": 44,
   "metadata": {
    "execution": {
     "iopub.execute_input": "2025-02-05T07:38:03.954935Z",
     "iopub.status.busy": "2025-02-05T07:38:03.954515Z",
     "iopub.status.idle": "2025-02-05T07:38:03.964689Z",
     "shell.execute_reply": "2025-02-05T07:38:03.963425Z",
     "shell.execute_reply.started": "2025-02-05T07:38:03.954889Z"
    }
   },
   "outputs": [],
   "source": [
    "def clean_features(df):\n",
    "    # Remove highly implausible values\n",
    "\n",
    "    # Clip Grip\n",
    "    df[['FGC-FGC_GSND', 'FGC-FGC_GSD']] = df[['FGC-FGC_GSND', 'FGC-FGC_GSD']].clip(lower=9, upper=60)\n",
    "    # Remove implausible body-fat\n",
    "    df[\"BIA-BIA_Fat\"] = np.where(df[\"BIA-BIA_Fat\"] < 5, np.nan, df[\"BIA-BIA_Fat\"])\n",
    "    df[\"BIA-BIA_Fat\"] = np.where(df[\"BIA-BIA_Fat\"] > 60, np.nan, df[\"BIA-BIA_Fat\"])\n",
    "    # Basal Metabolic Rate\n",
    "    df[\"BIA-BIA_BMR\"] = np.where(df[\"BIA-BIA_BMR\"] > 4000, np.nan, df[\"BIA-BIA_BMR\"])\n",
    "    # Daily Energy Expenditure\n",
    "    df[\"BIA-BIA_DEE\"] = np.where(df[\"BIA-BIA_DEE\"] > 8000, np.nan, df[\"BIA-BIA_DEE\"])\n",
    "    # Bone Mineral Content\n",
    "    df[\"BIA-BIA_BMC\"] = np.where(df[\"BIA-BIA_BMC\"] <= 0, np.nan, df[\"BIA-BIA_BMC\"])\n",
    "    df[\"BIA-BIA_BMC\"] = np.where(df[\"BIA-BIA_BMC\"] > 10, np.nan, df[\"BIA-BIA_BMC\"])\n",
    "    # Fat Free Mass Index\n",
    "    df[\"BIA-BIA_FFM\"] = np.where(df[\"BIA-BIA_FFM\"] <= 0, np.nan, df[\"BIA-BIA_FFM\"])\n",
    "    df[\"BIA-BIA_FFM\"] = np.where(df[\"BIA-BIA_FFM\"] > 300, np.nan, df[\"BIA-BIA_FFM\"])\n",
    "    # Fat Mass Index\n",
    "    df[\"BIA-BIA_FMI\"] = np.where(df[\"BIA-BIA_FMI\"] < 0, np.nan, df[\"BIA-BIA_FMI\"])\n",
    "    # Extra Cellular Water\n",
    "    df[\"BIA-BIA_ECW\"] = np.where(df[\"BIA-BIA_ECW\"] > 100, np.nan, df[\"BIA-BIA_ECW\"])\n",
    "    # Intra Cellular Water\n",
    "    # df[\"BIA-BIA_ICW\"] = np.where(df[\"BIA-BIA_ICW\"] > 100, np.nan, df[\"BIA-BIA_ICW\"])\n",
    "    # Lean Dry Mass\n",
    "    df[\"BIA-BIA_LDM\"] = np.where(df[\"BIA-BIA_LDM\"] > 100, np.nan, df[\"BIA-BIA_LDM\"])\n",
    "    # Lean Soft Tissue\n",
    "    df[\"BIA-BIA_LST\"] = np.where(df[\"BIA-BIA_LST\"] > 300, np.nan, df[\"BIA-BIA_LST\"])\n",
    "    # Skeletal Muscle Mass\n",
    "    df[\"BIA-BIA_SMM\"] = np.where(df[\"BIA-BIA_SMM\"] > 300, np.nan, df[\"BIA-BIA_SMM\"])\n",
    "    # Total Body Water\n",
    "    df[\"BIA-BIA_TBW\"] = np.where(df[\"BIA-BIA_TBW\"] > 300, np.nan, df[\"BIA-BIA_TBW\"])\n",
    "    \n",
    "    return df"
   ]
  },
  {
   "cell_type": "markdown",
   "metadata": {},
   "source": [
    "### 2. Feature Engineering: "
   ]
  },
  {
   "cell_type": "code",
   "execution_count": 45,
   "metadata": {
    "execution": {
     "iopub.execute_input": "2025-02-05T07:38:06.310940Z",
     "iopub.status.busy": "2025-02-05T07:38:06.310579Z",
     "iopub.status.idle": "2025-02-05T07:38:06.326114Z",
     "shell.execute_reply": "2025-02-05T07:38:06.325027Z",
     "shell.execute_reply.started": "2025-02-05T07:38:06.310908Z"
    }
   },
   "outputs": [],
   "source": [
    "def feature_engineering(df):\n",
    "    season_cols = [col for col in df.columns if 'Season' in col]\n",
    "    df = df.drop(season_cols, axis=1) \n",
    "    \n",
    "    # From here on own features\n",
    "    def assign_group(age):\n",
    "        thresholds = [5, 6, 7, 8, 10, 12, 14, 17, 22]\n",
    "        for i, j in enumerate(thresholds):\n",
    "            if age <= j:\n",
    "                return i\n",
    "        return np.nan\n",
    "    \n",
    "    # Age groups\n",
    "    df[\"group\"] = df['Basic_Demos-Age'].apply(assign_group)\n",
    "    \n",
    "    # BMI \n",
    "    BMI_map = {0: 16.3,1: 15.9,2: 16.1,3: 16.8,4: 17.3,5: 19.2,6: 20.2,7: 22.3, 8: 23.6}\n",
    "    df['BMI_mean_norm'] = df[['Physical-BMI', 'BIA-BIA_BMI']].mean(axis=1) / df[\"group\"].map(BMI_map)\n",
    "    \n",
    "    # FGC zone aggregate\n",
    "    zones = ['FGC-FGC_CU_Zone', 'FGC-FGC_GSND_Zone', 'FGC-FGC_GSD_Zone',\n",
    "             'FGC-FGC_PU_Zone', 'FGC-FGC_SRL_Zone', 'FGC-FGC_SRR_Zone',\n",
    "             'FGC-FGC_TL_Zone']\n",
    "    \n",
    "    df['FGC_Zones_mean'] = df[zones].mean(axis=1)\n",
    "    df['FGC_Zones_min'] = df[zones].min(axis=1)\n",
    "    df['FGC_Zones_max'] = df[zones].max(axis=1)\n",
    "    \n",
    "    # Grip\n",
    "    GSD_max_map = {0: 9, 1: 9, 2: 9, 3: 9, 4: 16.2, 5: 19.9, 6: 26.1, 7: 31.3, 8: 35.4}\n",
    "    GSD_min_map = {0: 9, 1: 9, 2: 9, 3: 9, 4: 14.4, 5: 17.8, 6: 23.4, 7: 27.8, 8: 31.1}\n",
    "    \n",
    "    df['GS_max'] = df[['FGC-FGC_GSND', 'FGC-FGC_GSD']].max(axis=1) / df[\"group\"].map(GSD_max_map)\n",
    "    df['GS_min'] = df[['FGC-FGC_GSND', 'FGC-FGC_GSD']].min(axis=1) / df[\"group\"].map(GSD_min_map)\n",
    "    \n",
    "    # Curl-ups, push-ups, trunk-lifts... normalized based on age-group\n",
    "    cu_map = {0: 1.0, 1: 3.0, 2: 5.0, 3: 7.0, 4: 10.0, 5: 14.0, 6: 20.0, 7: 20.0, 8: 20.0}\n",
    "    pu_map = {0: 1.0, 1: 2.0, 2: 3.0, 3: 4.0, 4: 5.0, 5: 7.0, 6: 8.0, 7: 10.0, 8: 14.0}\n",
    "    tl_map = {0: 8.0, 1: 8.0, 2: 8.0, 3: 9.0, 4: 9.0, 5: 10.0, 6: 10.0, 7: 10.0, 8: 10.0}\n",
    "    \n",
    "    df[\"CU_norm\"] = df['FGC-FGC_CU'] / df['group'].map(cu_map)\n",
    "    df[\"PU_norm\"] = df['FGC-FGC_PU'] / df['group'].map(pu_map)\n",
    "    df[\"TL_norm\"] = df['FGC-FGC_TL'] / df['group'].map(tl_map)\n",
    "    \n",
    "    # Reach \n",
    "    df[\"SR_min\"] = df[['FGC-FGC_SRL', 'FGC-FGC_SRR']].min(axis=1)\n",
    "    df[\"SR_max\"] = df[['FGC-FGC_SRL', 'FGC-FGC_SRR']].max(axis=1)\n",
    "\n",
    "    # BIA Features\n",
    "    # Energy Expenditure\n",
    "    bmr_map = {0: 934.0, 1: 941.0, 2: 999.0, 3: 1048.0, 4: 1283.0, 5: 1255.0, 6: 1481.0, 7: 1519.0, 8: 1650.0}\n",
    "    dee_map = {0: 1471.0, 1: 1508.0, 2: 1640.0, 3: 1735.0, 4: 2132.0, 5: 2121.0, 6: 2528.0, 7: 2566.0, 8: 2793.0}\n",
    "    df[\"BMR_norm\"] = df[\"BIA-BIA_BMR\"] / df[\"group\"].map(bmr_map)\n",
    "    df[\"DEE_norm\"] = df[\"BIA-BIA_DEE\"] / df[\"group\"].map(dee_map)\n",
    "    df[\"DEE_BMR\"] = df[\"BIA-BIA_DEE\"] - df[\"BIA-BIA_BMR\"]\n",
    "\n",
    "    # FMM\n",
    "    ffm_map = {0: 42.0, 1: 43.0, 2: 49.0, 3: 54.0, 4: 60.0, 5: 76.0, 6: 94.0, 7: 104.0, 8: 111.0}\n",
    "    df[\"FFM_norm\"] = df[\"BIA-BIA_FFM\"] / df[\"group\"].map(ffm_map)\n",
    "\n",
    "    # ECW ICW\n",
    "    df[\"ICW_ECW\"] = df[\"BIA-BIA_ECW\"] / df[\"BIA-BIA_ICW\"]\n",
    "    \n",
    "    drop_feats = ['FGC-FGC_GSND', 'FGC-FGC_GSD', 'FGC-FGC_CU_Zone', 'FGC-FGC_GSND_Zone', 'FGC-FGC_GSD_Zone',\n",
    "                  'FGC-FGC_PU_Zone', 'FGC-FGC_SRL_Zone', 'FGC-FGC_SRR_Zone', 'FGC-FGC_TL_Zone',\n",
    "                  'Physical-BMI', 'BIA-BIA_BMI', 'FGC-FGC_CU', 'FGC-FGC_PU', 'FGC-FGC_TL', 'FGC-FGC_SRL', 'FGC-FGC_SRR',\n",
    "                 'BIA-BIA_BMR', 'BIA-BIA_DEE', 'BIA-BIA_Frame_num', \"BIA-BIA_FFM\"]\n",
    "    df = df.drop(drop_feats, axis=1) \n",
    "    return df"
   ]
  },
  {
   "cell_type": "code",
   "execution_count": 46,
   "metadata": {
    "execution": {
     "iopub.execute_input": "2025-02-05T07:38:10.435993Z",
     "iopub.status.busy": "2025-02-05T07:38:10.435671Z",
     "iopub.status.idle": "2025-02-05T07:38:10.512214Z",
     "shell.execute_reply": "2025-02-05T07:38:10.511416Z",
     "shell.execute_reply.started": "2025-02-05T07:38:10.435966Z"
    }
   },
   "outputs": [],
   "source": [
    "train = clean_features(train)\n",
    "train = feature_engineering(train)\n",
    "\n",
    "test = clean_features(test)\n",
    "test = feature_engineering(test)"
   ]
  },
  {
   "cell_type": "code",
   "execution_count": 47,
   "metadata": {
    "execution": {
     "iopub.execute_input": "2025-02-05T07:38:11.044131Z",
     "iopub.status.busy": "2025-02-05T07:38:11.043762Z",
     "iopub.status.idle": "2025-02-05T07:38:11.116404Z",
     "shell.execute_reply": "2025-02-05T07:38:11.115279Z",
     "shell.execute_reply.started": "2025-02-05T07:38:11.044099Z"
    }
   },
   "outputs": [],
   "source": [
    "def bin_data(train, test, columns, n_bins=10):\n",
    "    # Combine train and test for consistent bin edges\n",
    "    combined = pd.concat([train, test], axis=0)\n",
    "    \n",
    "    bin_edges = {}\n",
    "    for col in columns:\n",
    "        # Compute quantile bin edges\n",
    "        edges = pd.qcut(combined[col], n_bins, retbins=True, labels=range(n_bins), duplicates=\"drop\")[1]\n",
    "        bin_edges[col] = edges\n",
    "    \n",
    "    # Apply the same bin edges to both train and test\n",
    "    for col, edges in bin_edges.items():\n",
    "        train[col] = pd.cut(\n",
    "            train[col], bins=edges, labels=range(len(edges) - 1), include_lowest=True\n",
    "        ).astype(float)\n",
    "        test[col] = pd.cut(\n",
    "            test[col], bins=edges, labels=range(len(edges) - 1), include_lowest=True\n",
    "        ).astype(float)\n",
    "    \n",
    "    return train, test\n",
    "\n",
    "# Usage example\n",
    "columns_to_bin = [\n",
    "    \"PAQ_A-PAQ_A_Total\", \"BMR_norm\", \"DEE_norm\", \"GS_min\", \"GS_max\", \"BIA-BIA_FFMI\", \n",
    "    \"BIA-BIA_BMC\", \"Physical-HeartRate\", \"BIA-BIA_ICW\", \"Fitness_Endurance-Time_Sec\", \n",
    "    \"BIA-BIA_LDM\", \"BIA-BIA_SMM\", \"BIA-BIA_TBW\", \"DEE_BMR\", \"ICW_ECW\"\n",
    "]\n",
    "train, test = bin_data(train, test, columns_to_bin, n_bins=10)"
   ]
  },
  {
   "cell_type": "code",
   "execution_count": 48,
   "metadata": {
    "execution": {
     "iopub.execute_input": "2025-02-05T07:38:28.294427Z",
     "iopub.status.busy": "2025-02-05T07:38:28.294013Z",
     "iopub.status.idle": "2025-02-05T07:38:28.307638Z",
     "shell.execute_reply": "2025-02-05T07:38:28.306427Z",
     "shell.execute_reply.started": "2025-02-05T07:38:28.294397Z"
    }
   },
   "outputs": [
    {
     "data": {
      "text/plain": [
       "(2736, 83)"
      ]
     },
     "execution_count": 48,
     "metadata": {},
     "output_type": "execute_result"
    }
   ],
   "source": [
    "exclude = ['PCIAT-Season', 'PCIAT-PCIAT_01', 'PCIAT-PCIAT_02', 'PCIAT-PCIAT_03',\n",
    "           'PCIAT-PCIAT_04', 'PCIAT-PCIAT_05', 'PCIAT-PCIAT_06', 'PCIAT-PCIAT_07',\n",
    "           'PCIAT-PCIAT_08', 'PCIAT-PCIAT_09', 'PCIAT-PCIAT_10', 'PCIAT-PCIAT_11',\n",
    "           'PCIAT-PCIAT_12', 'PCIAT-PCIAT_13', 'PCIAT-PCIAT_14', 'PCIAT-PCIAT_15',\n",
    "           'PCIAT-PCIAT_16', 'PCIAT-PCIAT_17', 'PCIAT-PCIAT_18', 'PCIAT-PCIAT_19',\n",
    "           'PCIAT-PCIAT_20', 'PCIAT-PCIAT_Total', 'sii', 'id']\n",
    "\n",
    "y_model = \"PCIAT-PCIAT_Total\" # Score, target for the model\n",
    "y_comp = \"sii\" # Index, target of the competition\n",
    "features = [f for f in train.columns if f not in exclude]\n",
    "\n",
    "# Categorical features\n",
    "# cat_c = ['Basic_Demos-Enroll_Season', 'CGAS-Season', 'Physical-Season', 'Fitness_Endurance-Season', \n",
    "#           'FGC-Season', 'BIA-Season', 'PAQ_A-Season', 'PAQ_C-Season', 'SDS-Season', 'PreInt_EduHx-Season']\n",
    "cat_c = []\n",
    "\n",
    "for col in cat_c:\n",
    "    a_map = {}\n",
    "    all_unique = set(train[col].unique()) | set(test[col].unique())\n",
    "    for i, value in enumerate(all_unique):\n",
    "        a_map[value] = i\n",
    "\n",
    "    train[col] = train[col].map(a_map)\n",
    "    test[col] = test[col].map(a_map)\n",
    "    \n",
    "train = train[train[\"sii\"].notna()] # Keep rows where target is available\n",
    "train.shape"
   ]
  },
  {
   "cell_type": "code",
   "execution_count": 49,
   "metadata": {
    "execution": {
     "iopub.execute_input": "2025-02-05T07:38:45.192440Z",
     "iopub.status.busy": "2025-02-05T07:38:45.192053Z",
     "iopub.status.idle": "2025-02-05T07:38:45.826207Z",
     "shell.execute_reply": "2025-02-05T07:38:45.825046Z",
     "shell.execute_reply.started": "2025-02-05T07:38:45.192409Z"
    }
   },
   "outputs": [
    {
     "data": {
      "text/plain": [
       "<Axes: >"
      ]
     },
     "execution_count": 49,
     "metadata": {},
     "output_type": "execute_result"
    },
    {
     "data": {
      "image/png": "[encoded data removed]",
      "text/plain": [
       "<Figure size 2500x1000 with 2 Axes>"
      ]
     },
     "metadata": {},
     "output_type": "display_data"
    }
   ],
   "source": [
    "#Check missing values: \n",
    "msno.matrix(train)"
   ]
  },
  {
   "cell_type": "code",
   "execution_count": 33,
   "metadata": {
    "execution": {
     "iopub.execute_input": "2025-02-05T07:30:54.622631Z",
     "iopub.status.busy": "2025-02-05T07:30:54.622378Z",
     "iopub.status.idle": "2025-02-05T07:30:54.648096Z",
     "shell.execute_reply": "2025-02-05T07:30:54.647083Z",
     "shell.execute_reply.started": "2025-02-05T07:30:54.622610Z"
    }
   },
   "outputs": [
    {
     "data": {
      "text/html": [
       "<div>\n",
       "<style scoped>\n",
       "    .dataframe tbody tr th:only-of-type {\n",
       "        vertical-align: middle;\n",
       "    }\n",
       "\n",
       "    .dataframe tbody tr th {\n",
       "        vertical-align: top;\n",
       "    }\n",
       "\n",
       "    .dataframe thead th {\n",
       "        text-align: right;\n",
       "    }\n",
       "</style>\n",
       "<table border=\"1\" class=\"dataframe\">\n",
       "  <thead>\n",
       "    <tr style=\"text-align: right;\">\n",
       "      <th></th>\n",
       "      <th>id</th>\n",
       "      <th>Basic_Demos-Age</th>\n",
       "      <th>Basic_Demos-Sex</th>\n",
       "      <th>CGAS-CGAS_Score</th>\n",
       "      <th>Physical-Height</th>\n",
       "      <th>Physical-Weight</th>\n",
       "      <th>Physical-Waist_Circumference</th>\n",
       "      <th>Physical-Diastolic_BP</th>\n",
       "      <th>Physical-HeartRate</th>\n",
       "      <th>Physical-Systolic_BP</th>\n",
       "      <th>...</th>\n",
       "      <th>CU_norm</th>\n",
       "      <th>PU_norm</th>\n",
       "      <th>TL_norm</th>\n",
       "      <th>SR_min</th>\n",
       "      <th>SR_max</th>\n",
       "      <th>BMR_norm</th>\n",
       "      <th>DEE_norm</th>\n",
       "      <th>DEE_BMR</th>\n",
       "      <th>FFM_norm</th>\n",
       "      <th>ICW_ECW</th>\n",
       "    </tr>\n",
       "  </thead>\n",
       "  <tbody>\n",
       "    <tr>\n",
       "      <th>0</th>\n",
       "      <td>00008ff9</td>\n",
       "      <td>5</td>\n",
       "      <td>0</td>\n",
       "      <td>51.0</td>\n",
       "      <td>46.0</td>\n",
       "      <td>50.8</td>\n",
       "      <td>NaN</td>\n",
       "      <td>NaN</td>\n",
       "      <td>NaN</td>\n",
       "      <td>NaN</td>\n",
       "      <td>...</td>\n",
       "      <td>0.0</td>\n",
       "      <td>0.0</td>\n",
       "      <td>0.750000</td>\n",
       "      <td>6.0</td>\n",
       "      <td>7.0</td>\n",
       "      <td>0.998392</td>\n",
       "      <td>1.014276</td>\n",
       "      <td>559.502</td>\n",
       "      <td>0.990148</td>\n",
       "      <td>0.337877</td>\n",
       "    </tr>\n",
       "    <tr>\n",
       "      <th>1</th>\n",
       "      <td>000fd460</td>\n",
       "      <td>9</td>\n",
       "      <td>0</td>\n",
       "      <td>NaN</td>\n",
       "      <td>48.0</td>\n",
       "      <td>46.0</td>\n",
       "      <td>22.0</td>\n",
       "      <td>75.0</td>\n",
       "      <td>70.0</td>\n",
       "      <td>122.0</td>\n",
       "      <td>...</td>\n",
       "      <td>0.3</td>\n",
       "      <td>1.0</td>\n",
       "      <td>0.333333</td>\n",
       "      <td>11.0</td>\n",
       "      <td>11.0</td>\n",
       "      <td>0.730051</td>\n",
       "      <td>0.702932</td>\n",
       "      <td>561.994</td>\n",
       "      <td>0.700485</td>\n",
       "      <td>0.286184</td>\n",
       "    </tr>\n",
       "    <tr>\n",
       "      <th>2</th>\n",
       "      <td>00105258</td>\n",
       "      <td>10</td>\n",
       "      <td>1</td>\n",
       "      <td>71.0</td>\n",
       "      <td>56.5</td>\n",
       "      <td>75.6</td>\n",
       "      <td>NaN</td>\n",
       "      <td>65.0</td>\n",
       "      <td>94.0</td>\n",
       "      <td>117.0</td>\n",
       "      <td>...</td>\n",
       "      <td>2.0</td>\n",
       "      <td>1.4</td>\n",
       "      <td>0.555556</td>\n",
       "      <td>10.0</td>\n",
       "      <td>10.0</td>\n",
       "      <td>NaN</td>\n",
       "      <td>NaN</td>\n",
       "      <td>NaN</td>\n",
       "      <td>NaN</td>\n",
       "      <td>NaN</td>\n",
       "    </tr>\n",
       "  </tbody>\n",
       "</table>\n",
       "<p>3 rows × 83 columns</p>\n",
       "</div>"
      ],
      "text/plain": [
       "         id  Basic_Demos-Age  Basic_Demos-Sex  CGAS-CGAS_Score  \\\n",
       "0  00008ff9                5                0             51.0   \n",
       "1  000fd460                9                0              NaN   \n",
       "2  00105258               10                1             71.0   \n",
       "\n",
       "   Physical-Height  Physical-Weight  Physical-Waist_Circumference  \\\n",
       "0             46.0             50.8                           NaN   \n",
       "1             48.0             46.0                          22.0   \n",
       "2             56.5             75.6                           NaN   \n",
       "\n",
       "   Physical-Diastolic_BP  Physical-HeartRate  Physical-Systolic_BP  ...  \\\n",
       "0                    NaN                 NaN                   NaN  ...   \n",
       "1                   75.0                70.0                 122.0  ...   \n",
       "2                   65.0                94.0                 117.0  ...   \n",
       "\n",
       "   CU_norm  PU_norm   TL_norm  SR_min  SR_max  BMR_norm  DEE_norm  DEE_BMR  \\\n",
       "0      0.0      0.0  0.750000     6.0     7.0  0.998392  1.014276  559.502   \n",
       "1      0.3      1.0  0.333333    11.0    11.0  0.730051  0.702932  561.994   \n",
       "2      2.0      1.4  0.555556    10.0    10.0       NaN       NaN      NaN   \n",
       "\n",
       "   FFM_norm   ICW_ECW  \n",
       "0  0.990148  0.337877  \n",
       "1  0.700485  0.286184  \n",
       "2       NaN       NaN  \n",
       "\n",
       "[3 rows x 83 columns]"
      ]
     },
     "execution_count": 33,
     "metadata": {},
     "output_type": "execute_result"
    }
   ],
   "source": [
    "train.head(3)"
   ]
  },
  {
   "cell_type": "markdown",
   "metadata": {},
   "source": [
    "### 3. Impute missing values: "
   ]
  },
  {
   "cell_type": "code",
   "execution_count": 50,
   "metadata": {
    "execution": {
     "iopub.execute_input": "2025-02-05T07:38:49.780279Z",
     "iopub.status.busy": "2025-02-05T07:38:49.779872Z",
     "iopub.status.idle": "2025-02-05T07:38:49.791785Z",
     "shell.execute_reply": "2025-02-05T07:38:49.790646Z",
     "shell.execute_reply.started": "2025-02-05T07:38:49.780227Z"
    }
   },
   "outputs": [],
   "source": [
    "class Impute_With_Model:\n",
    "    \n",
    "    def __init__(self, na_frac=0.5, min_samples=0):\n",
    "        self.model_dict = {}\n",
    "        self.mean_dict = {}\n",
    "        self.features = None\n",
    "        self.na_frac = na_frac\n",
    "        self.min_samples = min_samples\n",
    "        \n",
    "    def find_features(self, data, feature, tmp_features):\n",
    "        missing_rows = data[feature].isna()\n",
    "        na_fraction = data[missing_rows][tmp_features].isna().mean(axis=0)\n",
    "        valid_features = np.array(tmp_features)[na_fraction <= self.na_frac]\n",
    "        return valid_features\n",
    "\n",
    "    def fit_models(self, model, data, features):\n",
    "        self.features = features\n",
    "        n_data = data.shape[0]\n",
    "        for feature in features:\n",
    "            self.mean_dict[feature] = np.mean(data[feature])\n",
    "        for feature in tqdm(features):\n",
    "            if data[feature].isna().sum() > 0:\n",
    "                model_clone = clone(model)\n",
    "                X = data[data[feature].notna()].copy()\n",
    "                tmp_features = [f for f in features if f != feature]\n",
    "                tmp_features = self.find_features(data, feature, tmp_features)\n",
    "                if len(tmp_features) >= 1 and X.shape[0] > self.min_samples:\n",
    "                    for f in tmp_features:\n",
    "                        X[f] = X[f].fillna(self.mean_dict[f])\n",
    "                    model_clone.fit(X[tmp_features], X[feature])\n",
    "                    self.model_dict[feature] = (model_clone, tmp_features.copy())\n",
    "                else:\n",
    "                    self.model_dict[feature] = (\"mean\", np.mean(data[feature]))\n",
    "            \n",
    "    def impute(self, data):\n",
    "        imputed_data = data.copy()\n",
    "        for feature, model in self.model_dict.items():\n",
    "            missing_rows = imputed_data[feature].isna()\n",
    "            if missing_rows.any():\n",
    "                if model[0] == \"mean\":\n",
    "                    imputed_data[feature].fillna(model[1], inplace=True)\n",
    "                else:\n",
    "                    tmp_features = [f for f in self.features if f != feature]\n",
    "                    X_missing = data.loc[missing_rows, tmp_features].copy()\n",
    "                    for f in tmp_features:\n",
    "                        X_missing[f] = X_missing[f].fillna(self.mean_dict[f])\n",
    "                    imputed_data.loc[missing_rows, feature] = model[0].predict(X_missing[model[1]])\n",
    "        return imputed_data"
   ]
  },
  {
   "cell_type": "code",
   "execution_count": 51,
   "metadata": {
    "execution": {
     "iopub.execute_input": "2025-02-05T07:38:57.477076Z",
     "iopub.status.busy": "2025-02-05T07:38:57.476749Z",
     "iopub.status.idle": "2025-02-05T07:39:06.051234Z",
     "shell.execute_reply": "2025-02-05T07:39:06.050352Z",
     "shell.execute_reply.started": "2025-02-05T07:38:57.477050Z"
    }
   },
   "outputs": [
    {
     "name": "stderr",
     "output_type": "stream",
     "text": [
      "100%|██████████| 60/60 [00:07<00:00,  8.27it/s]\n"
     ]
    }
   ],
   "source": [
    "\n",
    "model = LassoCV(cv=5, random_state=SEED)\n",
    "imputer = Impute_With_Model(na_frac=0.4) \n",
    "# na_frac is the maximum fraction of missing values until which a feature is imputed with the model\n",
    "# if there are more missing values than for example 40% then we revert to mean imputation\n",
    "imputer.fit_models(model, train, features)\n",
    "train = imputer.impute(train)\n",
    "# test = imputer.impute(test)"
   ]
  },
  {
   "cell_type": "code",
   "execution_count": 52,
   "metadata": {
    "execution": {
     "iopub.execute_input": "2025-02-05T07:39:07.684675Z",
     "iopub.status.busy": "2025-02-05T07:39:07.684346Z",
     "iopub.status.idle": "2025-02-05T07:39:08.261891Z",
     "shell.execute_reply": "2025-02-05T07:39:08.260664Z",
     "shell.execute_reply.started": "2025-02-05T07:39:07.684652Z"
    }
   },
   "outputs": [
    {
     "data": {
      "text/plain": [
       "<Axes: >"
      ]
     },
     "execution_count": 52,
     "metadata": {},
     "output_type": "execute_result"
    },
    {
     "data": {
      "image/png": "[encoded data removed]",
      "text/plain": [
       "<Figure size 2500x1000 with 2 Axes>"
      ]
     },
     "metadata": {},
     "output_type": "display_data"
    }
   ],
   "source": [
    "msno.matrix(train)"
   ]
  },
  {
   "cell_type": "code",
   "execution_count": null,
   "metadata": {},
   "outputs": [],
   "source": []
  }
 ],
 "metadata": {
  "kaggle": {
   "accelerator": "none",
   "dataSources": [
    {
     "databundleVersionId": 9643020,
     "sourceId": 81933,
     "sourceType": "competition"
    }
   ],
   "dockerImageVersionId": 30839,
   "isGpuEnabled": false,
   "isInternetEnabled": true,
   "language": "python",
   "sourceType": "notebook"
  },
  "kernelspec": {
   "display_name": "Python 3 (ipykernel)",
   "language": "python",
   "name": "python3"
  },
  "language_info": {
   "codemirror_mode": {
    "name": "ipython",
    "version": 3
   },
   "file_extension": ".py",
   "mimetype": "text/x-python",
   "name": "python",
   "nbconvert_exporter": "python",
   "pygments_lexer": "ipython3",
   "version": "3.9.7"
  }
 },
 "nbformat": 4,
 "nbformat_minor": 4
}
